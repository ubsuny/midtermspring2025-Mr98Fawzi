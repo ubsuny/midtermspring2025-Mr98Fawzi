{
 "cells": [
  {
   "cell_type": "code",
   "execution_count": 1,
   "metadata": {},
   "outputs": [],
   "source": [
    "import numpy as np\n",
    "import sympy as sp\n",
    "from sympy import symbols, pprint\n",
    "import matplotlib.pyplot as plt\n",
    "import matplotlib.animation as animation\n"
   ]
  },
  {
   "cell_type": "markdown",
   "metadata": {},
   "source": [
    "# Estimate of `C=O` k and `C=C` K spring Constants"
   ]
  },
  {
   "cell_type": "code",
   "execution_count": null,
   "metadata": {},
   "outputs": [],
   "source": []
  },
  {
   "cell_type": "code",
   "execution_count": 2,
   "metadata": {},
   "outputs": [],
   "source": [
    "\"\"\"\n",
    "structure: a string like 'O=C=O'\n",
    "\n",
    "please don't leave spaces! For example, avoid 'O= C=O'\n",
    "please note that this is not eaxctly the chemical structure for example\n",
    "chemical strcture for C3O2 is O=C=C=C=O but we will use 'O=C-C-C=O' to indicate that the bonds are different O=C and C-C\n",
    "\n",
    "mass_dict: {'O': m, 'C': M} \n",
    "spring_dict: {'=': k, '-': K} \n",
    "\"\"\"\n",
    "        \n",
    "import sympy as sp\n",
    "\n",
    "class SymbolicMolecularChain:\n",
    "    def __init__(self, structure, mass_dict, spring_dict):\n",
    "        self.structure = structure\n",
    "        self.mass_dict = mass_dict\n",
    "        self.spring_dict = spring_dict\n",
    "        self.atoms, self.bonds = self._parse_structure(structure)\n",
    "        self.N = len(self.atoms)\n",
    "\n",
    "    def _parse_structure(self, structure):\n",
    "        atoms, bonds = [], []\n",
    "        i = 0\n",
    "        while i < len(structure):\n",
    "            if structure[i].isalpha():\n",
    "                atoms.append(structure[i])\n",
    "                if i + 1 < len(structure) and structure[i + 1] in self.spring_dict:\n",
    "                    bonds.append(structure[i + 1])\n",
    "                    i += 2\n",
    "                else:\n",
    "                    i += 1\n",
    "            else:\n",
    "                i += 1\n",
    "        return atoms, bonds\n",
    "\n",
    "    def build_matrix(self):\n",
    "        m = [self.mass_dict[a] for a in self.atoms]\n",
    "        k = [self.spring_dict[b] for b in self.bonds]\n",
    "\n",
    "        A = sp.zeros(self.N)\n",
    "        for i in range(self.N):\n",
    "            if i > 0:\n",
    "                A[i, i - 1] = -k[i - 1] / m[i]\n",
    "                A[i, i] += k[i - 1] / m[i]\n",
    "            if i < self.N - 1:\n",
    "                A[i, i + 1] = -k[i] / m[i]\n",
    "                A[i, i] += k[i] / m[i]\n",
    "        return A"
   ]
  },
  {
   "cell_type": "code",
   "execution_count": 3,
   "metadata": {},
   "outputs": [],
   "source": [
    "class SymbolicEigenSolver:\n",
    "    def __init__(self, matrix):\n",
    "        self.matrix = matrix\n",
    "        self.N = matrix.shape[0]\n",
    "        self.lambda_sym = sp.Symbol('lambda')\n",
    "\n",
    "    def characteristic_polynomial(self):\n",
    "        return (self.matrix - self.lambda_sym * sp.eye(self.N)).det()\n",
    "\n",
    "    def eigenvalues(self):\n",
    "        return sp.solve(self.characteristic_polynomial(), self.lambda_sym)\n",
    "\n",
    "    def diagonalize(self):\n",
    "        return self.matrix.diagonalize()\n"
   ]
  },
  {
   "cell_type": "code",
   "execution_count": 4,
   "metadata": {},
   "outputs": [],
   "source": [
    "\n",
    "m, M, k, K = symbols(\"m M k K\")\n",
    "\n",
    "CO2 = SymbolicMolecularChain(\"O=C=O\", {'O': m, 'C': M}, {'=': k,'-':K})\n",
    "\n",
    "Matrix_EignValue_CO2 = CO2.build_matrix()\n",
    "\n"
   ]
  },
  {
   "cell_type": "code",
   "execution_count": 5,
   "metadata": {},
   "outputs": [
    {
     "name": "stdout",
     "output_type": "stream",
     "text": [
      "⎡   k  M⋅k + 2⋅k⋅m⎤\n",
      "⎢0, ─, ───────────⎥\n",
      "⎣   m      M⋅m    ⎦\n"
     ]
    }
   ],
   "source": [
    "\n",
    "solver_CO2 = SymbolicEigenSolver(Matrix_EignValue_CO2)\n",
    "eigenvals = solver_CO2.eigenvalues()\n",
    "pprint(eigenvals)"
   ]
  },
  {
   "cell_type": "markdown",
   "metadata": {},
   "source": [
    "## Numerical Estimation based on \n",
    "http://www2.ess.ucla.edu/~schauble/MoleculeHTML/CO2_html/CO2_page.html\n",
    "\n",
    "https://orgchemboulder.com/Spectroscopy/irtutor/alkenesir.shtml"
   ]
  },
  {
   "cell_type": "code",
   "execution_count": 6,
   "metadata": {},
   "outputs": [],
   "source": [
    "\n",
    "c_m_s = 2.99792458e8 \n",
    "\n",
    "# Atomic masses in kg\n",
    "u = 1.66053906660e-27\n",
    "m = 15.999 * u\n",
    "M = 12.011 * u\n"
   ]
  },
  {
   "cell_type": "code",
   "execution_count": 7,
   "metadata": {},
   "outputs": [
    {
     "data": {
      "text/plain": [
       "(1727.1249969385876, 1477.2810284076643)"
      ]
     },
     "execution_count": 7,
     "metadata": {},
     "output_type": "execute_result"
    }
   ],
   "source": [
    "\n",
    "#transitional mode\n",
    "w_1=0\n",
    "\n",
    "#mid_static_mode\n",
    "w_2=135360*c_m_s*2*np.pi\n",
    "\n",
    "#anti_mode\n",
    "w_3=239630*c_m_s*2*np.pi\n",
    "\n",
    "\n",
    "k_from_w2 = w_2**2 * m\n",
    "k_from_w3 = w_3**2 / (1/m + 2/M)\n",
    "k_from_w2, k_from_w3\n"
   ]
  },
  {
   "cell_type": "code",
   "execution_count": 8,
   "metadata": {},
   "outputs": [
    {
     "data": {
      "text/plain": [
       "1602.203012673126"
      ]
     },
     "execution_count": 8,
     "metadata": {},
     "output_type": "execute_result"
    }
   ],
   "source": [
    "\n",
    "k_avg=(k_from_w2+ k_from_w3)/2\n",
    "k_avg\n",
    "\n",
    "\n"
   ]
  },
  {
   "cell_type": "code",
   "execution_count": 9,
   "metadata": {},
   "outputs": [
    {
     "name": "stdout",
     "output_type": "stream",
     "text": [
      "⎡   2⋅k⎤\n",
      "⎢0, ───⎥\n",
      "⎣    M ⎦\n"
     ]
    }
   ],
   "source": [
    "\n",
    "m, M, k, K = symbols(\"m M k K\")\n",
    "\n",
    "C2 = SymbolicMolecularChain(\"C=C\", {'O': m, 'C': M}, {'=': k,'-':K})\n",
    "\n",
    "Matrix_EignValue_C2 = C2.build_matrix()\n",
    "\n",
    "\n",
    "solver_C2 = SymbolicEigenSolver(Matrix_EignValue_C2)\n",
    "eigenvals = solver_C2.eigenvalues()\n",
    "pprint(eigenvals)"
   ]
  },
  {
   "cell_type": "code",
   "execution_count": 10,
   "metadata": {},
   "outputs": [
    {
     "data": {
      "text/plain": [
       "975.0246320574357"
      ]
     },
     "execution_count": 10,
     "metadata": {},
     "output_type": "execute_result"
    }
   ],
   "source": [
    "M = 12.011 * u\n",
    "\n",
    "w_cc_1=164000\n",
    "w_cc_2=168000\n",
    "\n",
    "w_cc=(w_cc_1+w_cc_2)/2\n",
    "w_cc= w_cc*c_m_s*2*np.pi\n",
    "\n",
    "\n",
    "(w_cc**2)* M/2"
   ]
  },
  {
   "cell_type": "code",
   "execution_count": 11,
   "metadata": {},
   "outputs": [],
   "source": [
    "#K is stiffer than k, so our estimates are consistent. Also they are consistent with those sources! "
   ]
  },
  {
   "cell_type": "markdown",
   "metadata": {},
   "source": [
    "# Problem 3 "
   ]
  },
  {
   "cell_type": "code",
   "execution_count": 12,
   "metadata": {},
   "outputs": [],
   "source": [
    "'''based on the estimates we have so far I will use \n",
    "\n",
    "'''\n",
    "\n",
    "u = 1.66053906660e-27\n",
    "\n",
    "m = 15.999 * u\n",
    "M = 12.011 * u\n",
    "k=1602.20\n",
    "K=975.02 \n"
   ]
  },
  {
   "cell_type": "code",
   "execution_count": null,
   "metadata": {},
   "outputs": [],
   "source": [
    "# now I will use numpy\n",
    "\n",
    "\n",
    "\n",
    "class MolecularChainNumeric:\n",
    "    def __init__(self, structure, mass_dict, spring_dict):\n",
    "        self.structure = structure\n",
    "        self.mass_dict = mass_dict\n",
    "        self.spring_dict = spring_dict\n",
    "        self.atoms, self.bonds = self._parse_structure(structure)\n",
    "        self.N = len(self.atoms)\n",
    "\n",
    "    def _parse_structure(self, structure):\n",
    "        atoms, bonds = [], []\n",
    "        i = 0\n",
    "        while i < len(structure):\n",
    "            if structure[i].isalpha():\n",
    "                atoms.append(structure[i])\n",
    "                if i + 1 < len(structure) and structure[i + 1] in self.spring_dict:\n",
    "                    bonds.append(structure[i + 1])\n",
    "                    i += 2\n",
    "                else:\n",
    "                    i += 1\n",
    "            else:\n",
    "                i += 1\n",
    "        return atoms, bonds\n",
    "\n",
    "    def build_matrix(self):\n",
    "        m = np.array([self.mass_dict[a] for a in self.atoms])\n",
    "        k = np.array([self.spring_dict[b] for b in self.bonds])\n",
    "\n",
    "        A = np.zeros((self.N, self.N))\n",
    "        for i in range(self.N):\n",
    "            if i > 0:\n",
    "                A[i, i - 1] = -k[i - 1] / m[i]\n",
    "                A[i, i] += k[i - 1] / m[i]\n",
    "            if i < self.N - 1:\n",
    "                A[i, i + 1] = -k[i] / m[i]\n",
    "                A[i, i] += k[i] / m[i]\n",
    "        return A\n",
    "\n",
    "\n",
    "class NumericEigenSolver:\n",
    "    def __init__(self, matrix):\n",
    "        self.matrix = matrix\n",
    "\n",
    "    def solve(self):\n",
    "        # eigenvalues are ω², eigenvectors are mode shapes\n",
    "        eigenvals, eigenvecs = np.linalg.eigh(self.matrix)\n",
    "        freqs = np.sqrt(np.clip(eigenvals, 0, None))  # ω = sqrt(λ)\n",
    "        return freqs, eigenvecs"
   ]
  },
  {
   "cell_type": "markdown",
   "metadata": {},
   "source": [
    "\n",
    "# C3O2\n"
   ]
  },
  {
   "cell_type": "code",
   "execution_count": 48,
   "metadata": {},
   "outputs": [
    {
     "name": "stdout",
     "output_type": "stream",
     "text": [
      "Frequency 1: 0.000e+00 Hz\n",
      "Mode 1: [0.677  0.5444 0.3743 0.237  0.2213] m\n",
      "\n",
      "\n",
      "Frequency 2: 3.448e+03 Hz\n",
      "Mode 2: [-0.3713 -0.1865  0.1933  0.4942  0.7387] m\n",
      "\n",
      "\n",
      "Frequency 3: 4.105e+03 Hz\n",
      "Mode 3: [ 0.399  -0.1013 -0.7562 -0.1629  0.4819] m\n",
      "\n",
      "\n",
      "Frequency 4: 4.513e+03 Hz\n",
      "Mode 4: [ 0.3434 -0.4775 -0.1464  0.6998 -0.3779] m\n",
      "\n",
      "\n",
      "Frequency 5: 4.622e+03 Hz\n",
      "Mode 5: [ 0.3558 -0.6561  0.4789 -0.4281  0.1743] m\n",
      "\n",
      "\n"
     ]
    }
   ],
   "source": [
    "C3O2 = MolecularChainNumeric(\"O=C-C-C=O\", {'O': m, 'C': M}, {'=': k,'-': K})\n",
    "A = C3O2.build_matrix()\n",
    "\n",
    "solver = NumericEigenSolver(A)\n",
    "square_frequencies, modes = solver.solve()\n",
    "frequencies=np.sqrt(square_frequencies)\n",
    "\n",
    "for i, (freq, mode) in enumerate(zip(np.sqrt(frequencies), modes.T), start=1):\n",
    "    print(f\"Frequency {i}: {freq:.3e} Hz\")\n",
    "    print(f\"Mode {i}: {np.round(mode, 4)} m\\n\\n\")"
   ]
  },
  {
   "cell_type": "markdown",
   "metadata": {},
   "source": [
    "\n",
    "# C9O2\n"
   ]
  },
  {
   "cell_type": "code",
   "execution_count": 17,
   "metadata": {},
   "outputs": [
    {
     "name": "stdout",
     "output_type": "stream",
     "text": [
      "Frequency 1: 0.000e+00 Hz\n",
      "Mode 1: [-0.6475 -0.5266 -0.3821 -0.2769 -0.2002 -0.1441 -0.1027 -0.072  -0.0486\n",
      " -0.0302 -0.0279] m\n",
      "\n",
      "\n",
      "Frequency 2: 8.459e+06 Hz\n",
      "Mode 2: [ 0.227   0.156   0.0229 -0.1126 -0.2363 -0.3353 -0.3991 -0.4212 -0.3991\n",
      " -0.3353 -0.3664] m\n",
      "\n",
      "\n",
      "Frequency 3: 1.130e+07 Hz\n",
      "Mode 3: [ 0.2539  0.139  -0.0962 -0.2993 -0.4024 -0.3712 -0.2161  0.0112  0.2348\n",
      "  0.3799  0.5209] m\n",
      "\n",
      "\n",
      "Frequency 4: 1.362e+07 Hz\n",
      "Mode 4: [-0.2655 -0.0855  0.2705  0.4359  0.2943 -0.0546 -0.365  -0.4184 -0.177\n",
      "  0.189   0.4406] m\n",
      "\n",
      "\n",
      "Frequency 5: 1.567e+07 Hz\n",
      "Mode 5: [-2.545e-01  1.000e-04  4.184e-01  3.202e-01 -1.733e-01 -4.529e-01\n",
      " -1.734e-01  3.201e-01  4.185e-01  2.000e-04 -3.389e-01] m\n",
      "\n",
      "\n",
      "Frequency 6: 1.739e+07 Hz\n",
      "Mode 6: [-0.2354  0.0915  0.4573 -0.033  -0.4615 -0.026   0.4582  0.0846 -0.4474\n",
      " -0.1418  0.274 ] m\n",
      "\n",
      "\n",
      "Frequency 7: 1.878e+07 Hz\n",
      "Mode 7: [ 0.2161 -0.1723 -0.3721  0.3748  0.1682 -0.4663  0.0855  0.4198 -0.3139\n",
      " -0.249   0.2344] m\n",
      "\n",
      "\n",
      "Frequency 8: 1.984e+07 Hz\n",
      "Mode 8: [-0.1973  0.2328  0.2013 -0.4686  0.3478  0.061  -0.4193  0.4303 -0.0849\n",
      " -0.3308  0.2106] m\n",
      "\n",
      "\n",
      "Frequency 9: 2.060e+07 Hz\n",
      "Mode 9: [ 0.1724 -0.2566 -0.0171  0.2854 -0.4624  0.4916 -0.3635  0.1192  0.1633\n",
      " -0.3935  0.1984] m\n",
      "\n",
      "\n",
      "Frequency 10: 2.105e+07 Hz\n",
      "Mode 10: [ 0.0861 -0.1456  0.0579  0.029  -0.1162  0.205  -0.2964  0.3916 -0.4918\n",
      "  0.5983 -0.2656] m\n",
      "\n",
      "\n",
      "Frequency 11: 2.128e+07 Hz\n",
      "Mode 11: [ 0.389  -0.7017  0.4519 -0.2917  0.1893 -0.1244  0.0841 -0.0605  0.0488\n",
      " -0.0469  0.0195] m\n",
      "\n",
      "\n"
     ]
    }
   ],
   "source": [
    "C9O2 = MolecularChainNumeric(\"O=C-C-C-C-C-C-C-C-C=O\", {'O': m, 'C': M}, {'=': k,'-': K})\n",
    "A = C9O2.build_matrix()\n",
    "\n",
    "solver = NumericEigenSolver(A)\n",
    "square_frequencies, modes = solver.solve()\n",
    "\n",
    "for i, (freq, mode) in enumerate(zip(np.sqrt(square_frequencies), modes.T), start=1):\n",
    "    print(f\"Frequency {i}: {freq:.3e} Hz\")\n",
    "    print(f\"Mode {i}: {np.round(mode, 4)} m\\n\\n\")"
   ]
  }
 ],
 "metadata": {
  "kernelspec": {
   "display_name": "Python 3 (ipykernel)",
   "language": "python",
   "name": "python3"
  },
  "language_info": {
   "codemirror_mode": {
    "name": "ipython",
    "version": 3
   },
   "file_extension": ".py",
   "mimetype": "text/x-python",
   "name": "python",
   "nbconvert_exporter": "python",
   "pygments_lexer": "ipython3",
   "version": "3.12.3"
  }
 },
 "nbformat": 4,
 "nbformat_minor": 4
}
