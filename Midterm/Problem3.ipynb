{
 "cells": [
  {
   "cell_type": "code",
   "execution_count": 5,
   "metadata": {},
   "outputs": [],
   "source": [
    "import numpy as np\n",
    "import sympy as sp\n",
    "from sympy import symbols, pprint"
   ]
  },
  {
   "cell_type": "markdown",
   "metadata": {},
   "source": [
    "# Estimate of `C=O` k and `C=C` K spring Constants"
   ]
  },
  {
   "cell_type": "code",
   "execution_count": null,
   "metadata": {},
   "outputs": [],
   "source": [
    "\n",
    "\n",
    "\"\"\"\n",
    "structure: a string like 'O=C=O'\n",
    "\n",
    "please don't leave spaces! For example, avoid 'O= C=O'\n",
    "please note that this is not eaxctly the chemical structure for example\n",
    "chemical strcture for C3O2 is O=C=C=C=O but we will use 'O=C-C-C=O' to indicate that the bonds are different O=C and C-C\n",
    "\n",
    "mass_dict: {'O': m, 'C': M} \n",
    "spring_dict: {'=': k, '-': K} \n",
    "\"\"\"\n",
    "        \n",
    "import sympy as sp\n",
    "\n",
    "class SymbolicMolecularChain:\n",
    "    def __init__(self, structure, mass_dict, spring_dict):\n",
    "        self.structure = structure\n",
    "        self.mass_dict = mass_dict\n",
    "        self.spring_dict = spring_dict\n",
    "        self.atoms, self.bonds = self._parse_structure(structure)\n",
    "        self.N = len(self.atoms)\n",
    "\n",
    "    def _parse_structure(self, structure):\n",
    "        atoms, bonds = [], []\n",
    "        i = 0\n",
    "        while i < len(structure):\n",
    "            if structure[i].isalpha():\n",
    "                atoms.append(structure[i])\n",
    "                if i + 1 < len(structure) and structure[i + 1] in self.spring_dict:\n",
    "                    bonds.append(structure[i + 1])\n",
    "                    i += 2\n",
    "                else:\n",
    "                    i += 1\n",
    "            else:\n",
    "                i += 1\n",
    "        return atoms, bonds\n",
    "\n",
    "    def build_matrix(self):\n",
    "        m = [self.mass_dict[a] for a in self.atoms]\n",
    "        k = [self.spring_dict[b] for b in self.bonds]\n",
    "\n",
    "        A = sp.zeros(self.N)\n",
    "        for i in range(self.N):\n",
    "            if i > 0:\n",
    "                A[i, i - 1] = -k[i - 1] / m[i]\n",
    "                A[i, i] += k[i - 1] / m[i]\n",
    "            if i < self.N - 1:\n",
    "                A[i, i + 1] = -k[i] / m[i]\n",
    "                A[i, i] += k[i] / m[i]\n",
    "        return A\n",
    "\n"
   ]
  },
  {
   "cell_type": "code",
   "execution_count": null,
   "metadata": {},
   "outputs": [],
   "source": [
    "class SymbolicEigenSolver:\n",
    "    def __init__(self, matrix):\n",
    "        self.matrix = matrix\n",
    "        self.N = matrix.shape[0]\n",
    "        self.lambda_sym = sp.Symbol('lambda')\n",
    "\n",
    "    def characteristic_polynomial(self):\n",
    "        return (self.matrix - self.lambda_sym * sp.eye(self.N)).det()\n",
    "\n",
    "    def eigenvalues(self):\n",
    "        return sp.solve(self.characteristic_polynomial(), self.lambda_sym)\n",
    "\n",
    "    def diagonalize(self):\n",
    "        return self.matrix.diagonalize()\n"
   ]
  },
  {
   "cell_type": "code",
   "execution_count": 15,
   "metadata": {},
   "outputs": [],
   "source": [
    "\n",
    "m, M, k, K = symbols(\"m M k K\")\n",
    "\n",
    "CO2 = SymbolicMolecularChain(\"O=C=O\", {'O': m, 'C': M}, {'=': k,'-':K})\n",
    "\n",
    "Matrix_EignValue_CO2 = CO2.build_matrix()\n",
    "\n"
   ]
  },
  {
   "cell_type": "code",
   "execution_count": 19,
   "metadata": {},
   "outputs": [
    {
     "name": "stdout",
     "output_type": "stream",
     "text": [
      "⎡   k  M⋅k + 2⋅k⋅m⎤\n",
      "⎢0, ─, ───────────⎥\n",
      "⎣   m      M⋅m    ⎦\n"
     ]
    }
   ],
   "source": [
    "\n",
    "solver_CO2 = SymbolicEigenSolver(Matrix_EignValue_CO2)\n",
    "eigenvals = solver_CO2.eigenvalues()\n",
    "pprint(eigenvals)"
   ]
  },
  {
   "cell_type": "markdown",
   "metadata": {},
   "source": [
    "## Numerical Estimation based on \n",
    "http://www2.ess.ucla.edu/~schauble/MoleculeHTML/CO2_html/CO2_page.html\n",
    "\n",
    "https://orgchemboulder.com/Spectroscopy/irtutor/alkenesir.shtml"
   ]
  },
  {
   "cell_type": "code",
   "execution_count": 30,
   "metadata": {},
   "outputs": [],
   "source": [
    "\n",
    "c_m_s = 2.99792458e8 \n",
    "\n",
    "# Atomic masses in kg\n",
    "u = 1.66053906660e-27\n",
    "m = 15.999 * u\n",
    "M = 12.011 * u\n"
   ]
  },
  {
   "cell_type": "code",
   "execution_count": 32,
   "metadata": {},
   "outputs": [
    {
     "data": {
      "text/plain": [
       "(1727.1249969385876, 1477.2810284076643)"
      ]
     },
     "execution_count": 32,
     "metadata": {},
     "output_type": "execute_result"
    }
   ],
   "source": [
    "\n",
    "#transitional mode\n",
    "w_1=0\n",
    "\n",
    "#mid_static_mode\n",
    "w_2=135360*c_m_s*2*np.pi\n",
    "\n",
    "#anti_mode\n",
    "w_3=239630*c_m_s*2*np.pi\n",
    "\n",
    "\n",
    "k_from_w2 = w_2**2 * m\n",
    "k_from_w3 = w_3**2 / (1/m + 2/M)\n",
    "k_from_w2, k_from_w3\n"
   ]
  },
  {
   "cell_type": "code",
   "execution_count": 33,
   "metadata": {},
   "outputs": [
    {
     "data": {
      "text/plain": [
       "1602.203012673126"
      ]
     },
     "execution_count": 33,
     "metadata": {},
     "output_type": "execute_result"
    }
   ],
   "source": [
    "\n",
    "k_avg=(k_from_w2+ k_from_w3)/2\n",
    "k_avg\n",
    "\n",
    "\n"
   ]
  },
  {
   "cell_type": "code",
   "execution_count": 35,
   "metadata": {},
   "outputs": [
    {
     "name": "stdout",
     "output_type": "stream",
     "text": [
      "⎡   2⋅k⎤\n",
      "⎢0, ───⎥\n",
      "⎣    M ⎦\n"
     ]
    }
   ],
   "source": [
    "\n",
    "m, M, k, K = symbols(\"m M k K\")\n",
    "\n",
    "C2 = SymbolicMolecularChain(\"C=C\", {'O': m, 'C': M}, {'=': k,'-':K})\n",
    "\n",
    "Matrix_EignValue_C2 = C2.build_matrix()\n",
    "\n",
    "\n",
    "solver_C2 = SymbolicEigenSolver(Matrix_EignValue_C2)\n",
    "eigenvals = solver_C2.eigenvalues()\n",
    "pprint(eigenvals)"
   ]
  },
  {
   "cell_type": "code",
   "execution_count": 38,
   "metadata": {},
   "outputs": [
    {
     "data": {
      "text/plain": [
       "975.0246320574357"
      ]
     },
     "execution_count": 38,
     "metadata": {},
     "output_type": "execute_result"
    }
   ],
   "source": [
    "M = 12.011 * u\n",
    "\n",
    "w_cc_1=164000\n",
    "w_cc_2=168000\n",
    "\n",
    "w_cc=(w_cc_1+w_cc_2)/2\n",
    "w_cc= w_cc*c_m_s*2*np.pi\n",
    "\n",
    "\n",
    "(w_cc**2)* M/2"
   ]
  },
  {
   "cell_type": "code",
   "execution_count": null,
   "metadata": {},
   "outputs": [],
   "source": [
    "#K is stiffer than k, so our estimates are consistent. Also they are consistent with those sources! "
   ]
  },
  {
   "cell_type": "markdown",
   "metadata": {},
   "source": [
    "\n",
    "# C3O2\n"
   ]
  },
  {
   "cell_type": "code",
   "execution_count": 50,
   "metadata": {},
   "outputs": [],
   "source": [
    "'''based on the estimates we have so far I will use \n",
    "\n",
    "'''\n",
    "\n",
    "u = 1.66053906660e-27\n",
    "\n",
    "m = 15.999 * u\n",
    "M = 12.011 * u\n",
    "k=1602.20\n",
    "K=975.02 \n"
   ]
  },
  {
   "cell_type": "code",
   "execution_count": 51,
   "metadata": {},
   "outputs": [],
   "source": [
    "\n",
    "# now I will use numpy\n",
    "\n",
    "\n",
    "\n",
    "class MolecularChainNumeric:\n",
    "    def __init__(self, structure, mass_dict, spring_dict):\n",
    "        self.structure = structure\n",
    "        self.mass_dict = mass_dict\n",
    "        self.spring_dict = spring_dict\n",
    "        self.atoms, self.bonds = self._parse_structure(structure)\n",
    "        self.N = len(self.atoms)\n",
    "\n",
    "    def _parse_structure(self, structure):\n",
    "        atoms, bonds = [], []\n",
    "        i = 0\n",
    "        while i < len(structure):\n",
    "            if structure[i].isalpha():\n",
    "                atoms.append(structure[i])\n",
    "                if i + 1 < len(structure) and structure[i + 1] in self.spring_dict:\n",
    "                    bonds.append(structure[i + 1])\n",
    "                    i += 2\n",
    "                else:\n",
    "                    i += 1\n",
    "            else:\n",
    "                i += 1\n",
    "        return atoms, bonds\n",
    "\n",
    "    def build_matrix(self):\n",
    "        m = np.array([self.mass_dict[a] for a in self.atoms])\n",
    "        k = np.array([self.spring_dict[b] for b in self.bonds])\n",
    "\n",
    "        A = np.zeros((self.N, self.N))\n",
    "        for i in range(self.N):\n",
    "            if i > 0:\n",
    "                A[i, i - 1] = -k[i - 1] / m[i]\n",
    "                A[i, i] += k[i - 1] / m[i]\n",
    "            if i < self.N - 1:\n",
    "                A[i, i + 1] = -k[i] / m[i]\n",
    "                A[i, i] += k[i] / m[i]\n",
    "        return A\n",
    "\n",
    "\n",
    "class NumericEigenSolver:\n",
    "    def __init__(self, matrix):\n",
    "        self.matrix = matrix\n",
    "\n",
    "    def solve(self):\n",
    "        # eigenvalues are ω², eigenvectors are mode shapes\n",
    "        eigenvals, eigenvecs = np.linalg.eigh(self.matrix)\n",
    "        freqs = np.sqrt(np.clip(eigenvals, 0, None))  # ω = sqrt(λ)\n",
    "        return freqs, eigenvecs\n"
   ]
  },
  {
   "cell_type": "code",
   "execution_count": 59,
   "metadata": {},
   "outputs": [
    {
     "name": "stdout",
     "output_type": "stream",
     "text": [
      "Frequency 1: 0.000e+00 Hz\n",
      "Mode 1: [0.677  0.5444 0.3743 0.237  0.2213] m\n",
      "\n",
      "\n",
      "Frequency 2: 1.189e+07 Hz\n",
      "Mode 2: [-0.3713 -0.1865  0.1933  0.4942  0.7387] m\n",
      "\n",
      "\n",
      "Frequency 3: 1.685e+07 Hz\n",
      "Mode 3: [ 0.399  -0.1013 -0.7562 -0.1629  0.4819] m\n",
      "\n",
      "\n",
      "Frequency 4: 2.037e+07 Hz\n",
      "Mode 4: [ 0.3434 -0.4775 -0.1464  0.6998 -0.3779] m\n",
      "\n",
      "\n",
      "Frequency 5: 2.137e+07 Hz\n",
      "Mode 5: [ 0.3558 -0.6561  0.4789 -0.4281  0.1743] m\n",
      "\n",
      "\n"
     ]
    }
   ],
   "source": [
    "\n",
    "C3O2 = MolecularChainNumeric(\"O=C-C-C=O\", {'O': m, 'C': M}, {'=': k,'-': K})\n",
    "A = C3O2.build_matrix()\n",
    "\n",
    "solver = NumericEigenSolver(A)\n",
    "frequencies, modes = solver.solve()\n",
    "\n",
    "for i, (freq, mode) in enumerate(zip(np.sqrt(frequencies), modes.T), start=1):\n",
    "    print(f\"Frequency {i}: {freq:.3e} Hz\")\n",
    "    print(f\"Mode {i}: {np.round(mode, 4)} m\\n\\n\")\n",
    "\n",
    "\n"
   ]
  },
  {
   "cell_type": "markdown",
   "metadata": {},
   "source": [
    "\n",
    "# C9O3\n"
   ]
  },
  {
   "cell_type": "code",
   "execution_count": 60,
   "metadata": {},
   "outputs": [
    {
     "name": "stdout",
     "output_type": "stream",
     "text": [
      "Frequency 1: 0.000e+00 Hz\n",
      "Mode 1: [-0.6465 -0.524  -0.3741 -0.2609 -0.1733 -0.1737 -0.141  -0.1012 -0.0713\n",
      " -0.0484 -0.0303 -0.0281] m\n",
      "\n",
      "\n",
      "Frequency 2: 7.462e+06 Hz\n",
      "Mode 2: [ 0.2573  0.1832  0.0499 -0.0866 -0.2176 -0.3848 -0.3996 -0.3985 -0.3722\n",
      " -0.3223 -0.2519 -0.2656] m\n",
      "\n",
      "\n",
      "Frequency 3: 1.077e+07 Hz\n",
      "Mode 3: [ 0.1747  0.1019 -0.0457 -0.1808 -0.2662 -0.3644 -0.2863 -0.0792  0.1497\n",
      "  0.3374  0.4322  0.5563] m\n",
      "\n",
      "\n",
      "Frequency 4: 1.354e+07 Hz\n",
      "Mode 4: [-0.2579 -0.0857  0.2561  0.4219  0.2977  0.13   -0.0827 -0.3753 -0.41\n",
      " -0.1628  0.1962  0.4431] m\n",
      "\n",
      "\n",
      "Frequency 5: 1.494e+07 Hz\n",
      "Mode 5: [ 0.2926  0.0383 -0.4186 -0.4491 -0.0222  0.3349  0.3119 -0.0436 -0.3546\n",
      " -0.3045  0.0558  0.3203] m\n",
      "\n",
      "\n",
      "Frequency 6: 1.710e+07 Hz\n",
      "Mode 6: [ 0.1682 -0.0528 -0.3236 -0.0283  0.3165  0.2522 -0.1274 -0.5284 -0.005\n",
      "  0.5271  0.1371 -0.3279] m\n",
      "\n",
      "\n",
      "Frequency 7: 1.836e+07 Hz\n",
      "Mode 7: [ 0.273  -0.1812 -0.5064  0.3455  0.3943 -0.1781 -0.3115  0.1934  0.2488\n",
      " -0.2741 -0.1599  0.1808] m\n",
      "\n",
      "\n",
      "Frequency 8: 1.955e+07 Hz\n",
      "Mode 8: [-0.1578  0.1683  0.2017 -0.3672  0.1604  0.2531 -0.2003 -0.3472  0.5427\n",
      " -0.1879 -0.3574  0.2516] m\n",
      "\n",
      "\n",
      "Frequency 9: 2.035e+07 Hz\n",
      "Mode 9: [ 0.1955 -0.2709 -0.0863  0.4012 -0.5198  0.0402  0.3647 -0.3824  0.213\n",
      "  0.0606 -0.3046  0.165 ] m\n",
      "\n",
      "\n",
      "Frequency 10: 2.099e+07 Hz\n",
      "Mode 10: [ 0.0812 -0.1354  0.0466  0.0433 -0.1322  0.1074  0.0008 -0.1775  0.3495\n",
      " -0.5122  0.6613 -0.2978] m\n",
      "\n",
      "\n",
      "Frequency 11: 2.126e+07 Hz\n",
      "Mode 11: [-0.3999  0.7167 -0.4429  0.2482 -0.0977 -0.0796  0.1563 -0.109   0.0812\n",
      " -0.0679  0.0667 -0.0279] m\n",
      "\n",
      "\n",
      "Frequency 12: 2.205e+07 Hz\n",
      "Mode 12: [-0.0265  0.0582 -0.0842  0.1808 -0.4291  0.6173 -0.5689  0.2348 -0.0979\n",
      "  0.043  -0.0242  0.0083] m\n",
      "\n",
      "\n"
     ]
    }
   ],
   "source": [
    "\n",
    "C9O3 = MolecularChainNumeric(\"O=C-C-C-C=O=C-C-C-C-C=O\", {'O': m, 'C': M}, {'=': k,'-': K})\n",
    "A = C9O3.build_matrix()\n",
    "\n",
    "solver = NumericEigenSolver(A)\n",
    "frequencies, modes = solver.solve()\n",
    "\n",
    "for i, (freq, mode) in enumerate(zip(np.sqrt(frequencies), modes.T), start=1):\n",
    "    print(f\"Frequency {i}: {freq:.3e} Hz\")\n",
    "    print(f\"Mode {i}: {np.round(mode, 4)} m\\n\\n\")"
   ]
  },
  {
   "cell_type": "code",
   "execution_count": null,
   "metadata": {},
   "outputs": [],
   "source": []
  }
 ],
 "metadata": {
  "kernelspec": {
   "display_name": "Python 3",
   "language": "python",
   "name": "python3"
  },
  "language_info": {
   "codemirror_mode": {
    "name": "ipython",
    "version": 3
   },
   "file_extension": ".py",
   "mimetype": "text/x-python",
   "name": "python",
   "nbconvert_exporter": "python",
   "pygments_lexer": "ipython3",
   "version": "3.12.4"
  }
 },
 "nbformat": 4,
 "nbformat_minor": 2
}
